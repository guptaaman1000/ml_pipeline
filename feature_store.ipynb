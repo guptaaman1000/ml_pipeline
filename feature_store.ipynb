{
 "cells": [
  {
   "cell_type": "code",
   "execution_count": 2,
   "id": "c85694cf-cf71-414d-8468-e6b55a1b3f2a",
   "metadata": {},
   "outputs": [
    {
     "name": "stdout",
     "output_type": "stream",
     "text": [
      "   customer_id  total_spend  tenure_months\n",
      "0            1        500.0             12\n",
      "1            2       1200.5             24\n",
      "2            3        800.3             36\n"
     ]
    }
   ],
   "source": [
    "import os\n",
    "import sqlite3\n",
    "import pandas as pd\n",
    "import logging\n",
    "\n",
    "# Configure logging\n",
    "LOGS_PATH = \"logs/\"\n",
    "os.makedirs(LOGS_PATH, exist_ok=True)\n",
    "logging.basicConfig(filename=os.path.join(LOGS_PATH, 'feature_store.log'), level=logging.INFO,\n",
    "                    format='%(asctime)s - %(levelname)s - %(message)s')\n",
    "\n",
    "# Define database path\n",
    "DB_PATH = \"database/feature_store.db\"\n",
    "os.makedirs(\"database\", exist_ok=True)\n",
    "\n",
    "# Connect to SQLite database\n",
    "def get_db_connection():\n",
    "    return sqlite3.connect(DB_PATH)\n",
    "\n",
    "# Initialize feature store\n",
    "def initialize_feature_store():\n",
    "    conn = get_db_connection()\n",
    "    cursor = conn.cursor()\n",
    "    \n",
    "    # Create feature metadata table\n",
    "    cursor.execute('''\n",
    "        CREATE TABLE IF NOT EXISTS feature_metadata (\n",
    "            feature_name TEXT PRIMARY KEY,\n",
    "            description TEXT,\n",
    "            data_type TEXT,\n",
    "            source TEXT,\n",
    "            created_at TIMESTAMP DEFAULT CURRENT_TIMESTAMP\n",
    "        )\n",
    "    ''')\n",
    "    \n",
    "    conn.commit()\n",
    "    conn.close()\n",
    "    logging.info(\"Feature store initialized.\")\n",
    "\n",
    "# Store features in the feature store\n",
    "def store_features(df, table_name):\n",
    "    conn = get_db_connection()\n",
    "    df.to_sql(table_name, conn, if_exists='replace', index=False)\n",
    "    conn.close()\n",
    "    logging.info(f\"Features stored in {table_name} table.\")\n",
    "\n",
    "# Retrieve features for model training\n",
    "def get_features(table_name):\n",
    "    conn = get_db_connection()\n",
    "    query = f\"SELECT * FROM {table_name}\"\n",
    "    df = pd.read_sql(query, conn)\n",
    "    conn.close()\n",
    "    return df\n",
    "\n",
    "if __name__ == \"__main__\":\n",
    "    initialize_feature_store()\n",
    "    \n",
    "    # Example usage: Storing and retrieving features\n",
    "    sample_data = {\n",
    "        'customer_id': [1, 2, 3],\n",
    "        'total_spend': [500.0, 1200.5, 800.3],\n",
    "        'tenure_months': [12, 24, 36]\n",
    "    }\n",
    "    df = pd.DataFrame(sample_data)\n",
    "    store_features(df, \"customer_features\")\n",
    "    \n",
    "    retrieved_df = get_features(\"customer_features\")\n",
    "    print(retrieved_df)"
   ]
  }
 ],
 "metadata": {
  "kernelspec": {
   "display_name": "Python 3 (ipykernel)",
   "language": "python",
   "name": "python3"
  },
  "language_info": {
   "codemirror_mode": {
    "name": "ipython",
    "version": 3
   },
   "file_extension": ".py",
   "mimetype": "text/x-python",
   "name": "python",
   "nbconvert_exporter": "python",
   "pygments_lexer": "ipython3",
   "version": "3.12.7"
  }
 },
 "nbformat": 4,
 "nbformat_minor": 5
}
